{
 "cells": [
  {
   "cell_type": "code",
   "execution_count": 1,
   "metadata": {},
   "outputs": [],
   "source": [
    "import operator\n",
    "import pandas as pd \n",
    "        "
   ]
  },
  {
   "cell_type": "code",
   "execution_count": 2,
   "metadata": {},
   "outputs": [],
   "source": [
    "def Cifrar(texto,diccionario):\n",
    "    txt=''\n",
    "    for i in range(len(texto)):\n",
    "        if texto[i] in diccionario.keys():\n",
    "            txt+=diccionario[texto[i]]\n",
    "        else:\n",
    "            txt+=texto[i]\n",
    "    return txt"
   ]
  },
  {
   "cell_type": "code",
   "execution_count": 3,
   "metadata": {
    "scrolled": true
   },
   "outputs": [
    {
     "name": "stdout",
     "output_type": "stream",
     "text": [
      "﻿of ñsl ño ldow pzo glwyox d yohsl nflxox l klwysw ño flx ñsoe ño fl glilhl, kjw fj ylhyj ñomsl kjhow gs lflwgl of fzhox lhyox ño ñjwgswgo d ohyjhnox fl kwjqwlgo klwl vzo go foalhylwl l flx xosx ño fl glilhl klwl kjñow oxyzñslw zhlx njxlx vzo of gloxywj ño mlxo ño ñlyjx ñsxywsmzsñlx hjx rlmsl ohnlwqlñj, mzxvzo gsx lkzhyox ño fjx xogoxywox lhyowsjwox kjwvzo fl gloxywl mflhnl vzo go ñsj oxl glyowsl hjx ñopshsl gzd msoh fjx njhnokyjx, kowj hj kzño ohnjhywlw gs nzlñowhj kowj wonjwño vzo hjx njgklwysj zh fshu ño ñwjkmjc oh ñjhño aohslh alwsjx njhnokyjx d ño lrs ogkono l wolfselw gsx lkzhyox klwl mlxo ño ñlyjx.\n",
      "yowgsho njgj l flx xsoyo d ñoxkzox ñonsñs rlnowgo of ñoxldzhj, rsno nlpo d njgs zh klh vzo gsx klklx rlmslh njgkwlñj of ñsl lhyowsjw. ñoxkzox go goys l mlilw d yowgsho ño kwoklwlwgo klwl sw l fl oxnzofl njgj l flx jnrj d goñsl, go xlfs ño gs nlxl lf nzlwyj klwl flx hzoao, ylwño oh ffoqlw l fl oxnzofl njgj 40 gshzyjx kjwvzo rlmsl lfqj ño ywípsnj.\n",
      "fl kwsgowl nflxo vzo go yjnlml owl xsxyoglx ñsxywsmzsñjx ñjhño aoj l fl gldjwsl ño gsx lgsqjx.\n",
      "of kwjpoxjw hjx kflysnj vzo smlgjx l aow oh of nzwxj d ylgmsoh hjx ohxoij zhl kíqshl bom ñjhño aohslh alwsjx kwjdonyjx vzo kjñwslgjx ofoqsw klwl wolfselw oh oxl glyowsl. gíx ylwño pzs njh gs yzyjw, of kwjpoxjw mowgæñoe klwl vzo hjx ldzñlwl l ñlhshofl d l gs l ofoqsw zh kwjdonyj ño goyjñjfjqsl ño fl shaoxysqlnsjh, of kwjpoxjw hjx ñsj gznrlx sñolx gzd klñwox xjmwo kwjnoxlgsohyj ño aje, lkfsnlnsjhox, xsxyoglx qojqwípsnjx, gjñzflnsjhox oyn., ylgmsoh hjx ockfsnj njgj xo rlnoh fl woasxsjhox, d vzo klxlwsl xs hj ox lkwjmlñj of kwjyjnjfjx d ñogíx njxlx.\n",
      "hjx njgohyj ylgmsoh vzo hj ox honoxlwsj wolfselw zh kwjdonyj njgkfotj, xs hj zhj vzo oxyo msoh tzxyspsnlñj d vzo ldzño l zh qwzkj ño kowxjhlx d hj xjfj l zhl, hjx njhyj ño xzx ockowsohnslx njh jywjx lfzghjx xjmwo vzo l rlmsñj kwjdonyjx gzd xohnsffjx vzo  xjh lkwjmlñjx ñomsñj l oxj, vzo oxyíh msoh tzxyspsnlñjx.\n",
      "ñoxkzox kflysvzo njh ñlhhsofl xjmwo vzo kjñwslgjx rlnow d l lgmjx hjx qzxyj zhl sñol vzo of kwjpoxjw hjx ñstj, kowj lhlfselhñj yjñjx fjx njhjnsgsohyjx vzo rogjx lñvzswsñj, hj ñsgjx nzohyl vzo hj fj kjñwslgjx wolfselw kjwvzo hjx plfyl nzwxlw fl glyowsl ño lhyohlx vzo klwl oxo kwjdonyj xo honoxsylwsl oh zhl klwyo.\n",
      "ohyjhnox ñonsñsgjx rlnow zhl lkfsnlnsjh xjmwo kwjnoxlgsohyj ño aje .\n",
      "\n",
      "\n"
     ]
    }
   ],
   "source": [
    "CRYPT= pd.read_csv(\"diccionario.csv\",index_col=0, names=['D']).to_dict('dict')\n",
    "DECRYPT= pd.read_csv(\"diccionario.csv\",index_col=1, names=['D']).to_dict('dict')\n",
    "texto =open(\"Carta.txt\",'r',encoding=\"utf8\").read().lower()\n",
    "x=Cifrar(texto,CRYPT['D'])\n",
    "print(x)\n",
    "filename='Carta-Cifrada.txt'\n",
    "filew = open(filename, \"w\",encoding=\"utf-8\")\n",
    "filew.write(x)\n",
    "filew.close()"
   ]
  },
  {
   "cell_type": "code",
   "execution_count": 4,
   "metadata": {},
   "outputs": [
    {
     "name": "stdout",
     "output_type": "stream",
     "text": [
      "﻿el dia de ayer fue martes y tenia clases a partir de las diez de la mañana, por lo tanto debia poner mi alarma el lunes antes de dormirme y entonces la programe para que me levantara a las seis de la mañana para poder estudiar unas cosas que el maestro de base de datos distribuidas nos habia encargado, busque mis apuntes de los semestres anteriores porque la maestra blanca que me dio esa materia nos definia muy bien los conceptos, pero no pude encontrar mi cuaderno pero recorde que nos compartio un link de dropbox en donde venian varios conceptos y de ahi empece a realizar mis apuntes para base de datos.\n",
      "termine como a las siete y despues decidi hacerme el desayuno, hice cafe y comi un pan que mis papas habian comprado el dia anterior. despues me meti a bañar y termine de prepararme para ir a la escuela como a las ocho y media, me sali de mi casa al cuarto para las nueve, tarde en llegar a la escuela como 40 minutos porque habia algo de trífico.\n",
      "la primera clase que me tocaba era sistemas distribuidos donde veo a la mayoria de mis amigos.\n",
      "el profesor nos platico que ibamos a ver en el curso y tambien nos enseño una pígina web donde venian varios proyectos que podriamos elegir para realizar en esa materia. mís tarde fui con mi tutor, el profesor bermædez para que nos ayudara a daninela y a mi a elegir un proyecto de metodologia de la investigacion, el profesor nos dio muchas ideas muy padres sobre procesamiento de voz, aplicaciones, sistemas geogríficos, modulaciones etc., tambien nos explico como se hacen la revisiones, y que pasaria si no es aprobado el protocolos y demís cosas.\n",
      "nos comento tambien que no es necesario realizar un proyecto complejo, si no uno que este bien justificado y que ayude a un grupo de personas y no solo a una, nos conto de sus experiencias con otros alumnos sobre que a habido proyectos muy sencillos que  son aprobados debido a eso, que estín bien justificados.\n",
      "despues platique con danniela sobre que podriamos hacer y a ambos nos gusto una idea que el profesor nos dijo, pero analizando todos los conocimientos que hemos adquirido, no dimos cuenta que no lo podriamos realizar porque nos falta cursar la materia de antenas que para ese proyecto se necesitaria en una parte.\n",
      "entonces decidimos hacer una aplicacion sobre procesamiento de voz .\n",
      "\n",
      "\n"
     ]
    }
   ],
   "source": [
    "DECRYPT= pd.read_csv(\"diccionario.csv\",index_col=1, names=['D']).to_dict('dict')\n",
    "texto =open(\"Carta-Cifrada.txt\",'r',encoding=\"utf8\").read().lower()\n",
    "x=Cifrar(texto,DECRYPT['D'])\n",
    "print(x)"
   ]
  },
  {
   "cell_type": "code",
   "execution_count": null,
   "metadata": {},
   "outputs": [],
   "source": []
  }
 ],
 "metadata": {
  "kernelspec": {
   "display_name": "Python 3",
   "language": "python",
   "name": "python3"
  },
  "language_info": {
   "codemirror_mode": {
    "name": "ipython",
    "version": 3
   },
   "file_extension": ".py",
   "mimetype": "text/x-python",
   "name": "python",
   "nbconvert_exporter": "python",
   "pygments_lexer": "ipython3",
   "version": "3.7.3"
  }
 },
 "nbformat": 4,
 "nbformat_minor": 2
}
