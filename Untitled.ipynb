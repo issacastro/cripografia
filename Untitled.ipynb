{
 "cells": [
  {
   "cell_type": "code",
   "execution_count": 1,
   "metadata": {},
   "outputs": [
    {
     "name": "stdout",
     "output_type": "stream",
     "text": [
      "Alice sends     14\n",
      "Bob computes    5556302616191343498765890791686005349041729624255239232159744\n",
      "Bob sends       14\n",
      "Alice computes  793714773254144\n",
      "In theory both should have  16\n"
     ]
    }
   ],
   "source": [
    " # publicly known \n",
    " n=22 \n",
    " # publicly known\n",
    " g=42 \n",
    "\n",
    " x=13 # only Alice knows this \n",
    " y=53 # only Bob knows this\n",
    "\n",
    " aliceSends = (g**x)%n \n",
    " bobComputes = aliceSends**y \n",
    " bobSends = (g**y)%n\n",
    " aliceComputes = bobSends**x\n",
    "\n",
    "\n",
    " print(\"Issac sends    \", aliceSends )\n",
    " print(\"Mike computes   \", bobComputes) \n",
    " print(\"mike sends      \", bobSends) \n",
    " print(\"Issac computes \", aliceComputes)\n",
    "\n",
    " print(\"In theory both should have \", (g**(x*y))%n)"
   ]
  },
  {
   "cell_type": "code",
   "execution_count": null,
   "metadata": {},
   "outputs": [],
   "source": []
  }
 ],
 "metadata": {
  "kernelspec": {
   "display_name": "Python 3",
   "language": "python",
   "name": "python3"
  },
  "language_info": {
   "codemirror_mode": {
    "name": "ipython",
    "version": 3
   },
   "file_extension": ".py",
   "mimetype": "text/x-python",
   "name": "python",
   "nbconvert_exporter": "python",
   "pygments_lexer": "ipython3",
   "version": "3.7.3"
  }
 },
 "nbformat": 4,
 "nbformat_minor": 2
}
