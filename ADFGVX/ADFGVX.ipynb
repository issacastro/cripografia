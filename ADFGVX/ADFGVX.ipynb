{
 "cells": [
  {
   "cell_type": "code",
   "execution_count": 1,
   "metadata": {},
   "outputs": [],
   "source": [
    "import numpy as np\n",
    "import math\n",
    "import pandas as pd\n",
    "diccionario ={'A':'DD','B':'AF','C':'XV','D':'FA','E':'DX','F':'FF',\n",
    "              'G':'AG','H':'GF','I':'DA','J':'DV','K':'VG','L':'XD',\n",
    "              'M':'FX','N':'AA','O':'XA','P':'XF','Q':'VA','R':'FV',\n",
    "              'S':'GX','T':'AV','U':'DG','V':'GG','W':'GD','X':'VX',\n",
    "              'Y':'VV','Z':'XX','0':'AD','1':'DF','2':'AX','3':'FD',\n",
    "              '4':'VF','5':'FG','6':'GV','7':'VD','8':'XG','9':'GA'}"
   ]
  },
  {
   "cell_type": "code",
   "execution_count": 2,
   "metadata": {},
   "outputs": [],
   "source": [
    "def encriptar(mensaje,clave):   \n",
    "    sustitucion=''\n",
    "    #Se sustituye la letra por coordenadas ADFGVX\n",
    "    for i in range(len(mensaje)):\n",
    "        sustitucion += diccionario[mensaje[i]]    \n",
    "    #Se rellena los espacios faltantes para la matriz de transposicion\n",
    "    rows = math.ceil(len(sustitucion)/len(clave))\n",
    "    columns = len(clave)\n",
    "    while (rows*columns != len(sustitucion)):\n",
    "        sustitucion +='A'\n",
    "    s = [[0 for j in range(columns) ] \n",
    "    for i in range(rows)] \n",
    "    k=0\n",
    "    #Se genera la matriz de transposicion \n",
    "    for i in range(rows):\n",
    "        for j in range(columns):\n",
    "            s[i][j]=sustitucion[k]\n",
    "            k+=1\n",
    "    #Ordenar Matriz por palabra clave\n",
    "    KeyOrder=list(clave)\n",
    "    KeyOrder.sort()\n",
    "    Mcifrado = [['' for j in range(columns) ] \n",
    "         for i in range(rows)] \n",
    "    for i in range(columns):\n",
    "        for j in range(columns):\n",
    "            if(KeyOrder[i]==clave[j]):\n",
    "                for k in range(rows):\n",
    "                    Mcifrado[k][i]=s[k][j]\n",
    "    cifrado = ''\n",
    "    for i in range(columns):\n",
    "        for j in range(rows):\n",
    "            cifrado+= Mcifrado[j][i]\n",
    "    print('Mensaje Cifrado:')\n",
    "    print(cifrado)\n",
    "    return cifrado"
   ]
  },
  {
   "cell_type": "code",
   "execution_count": 3,
   "metadata": {},
   "outputs": [],
   "source": [
    "def desencriptar(cifrado,clave):\n",
    "    #Verificar si es par la cantidad de letras para evitar errores en diccionario\n",
    "    while (len(cifrado)%2!=0):\n",
    "        cifrado +='A'\n",
    "    rows = math.ceil(len(cifrado)/len(clave))\n",
    "    columns = len(clave)\n",
    "    Mcifrado = [['' for j in range(columns) ] \n",
    "         for i in range(rows)]\n",
    "    k=0\n",
    "    #Se genera la matriz de transposicion \n",
    "    for i in range(columns):\n",
    "        for j in range(rows):\n",
    "            Mcifrado[j][i]=cifrado[k]\n",
    "            k+=1\n",
    "    #Ordenar Matriz por palabra clave\n",
    "    KeyOrder=list(clave)\n",
    "    KeyOrder.sort()\n",
    "    s = [['' for j in range(columns) ] \n",
    "         for i in range(rows)] \n",
    "    for i in range(columns):\n",
    "        for j in range(columns):\n",
    "            if(clave[i]==KeyOrder[j]):\n",
    "                for k in range(rows):\n",
    "                    s[k][i]=Mcifrado[k][j]\n",
    "    #Matriz to String\n",
    "    cifrado = ''\n",
    "    for i in range(rows):\n",
    "        for j in range(columns):\n",
    "            cifrado+= s[i][j]\n",
    "    descifrado=''\n",
    "    #Se sustituye la letra por coordenadas ADFGVX\n",
    "    for i in range(0,len(cifrado),2):\n",
    "        descifrado+=list(diccionario.keys())[list(diccionario.values()).index(cifrado[i:i+2])]\n",
    "    print('Mensaje Descifrado:')\n",
    "    print(descifrado)\n",
    "    return descifrado"
   ]
  },
  {
   "cell_type": "code",
   "execution_count": 4,
   "metadata": {},
   "outputs": [
    {
     "name": "stdout",
     "output_type": "stream",
     "text": [
      "Ingrese Clave:HOY\n",
      "Mensaje Cifrado:\n",
      "AXGFFAXDDDAXXDDFVVDXDVDDGFDADVGDXVDXXXXDDXAXFADXGAA\n"
     ]
    }
   ],
   "source": [
    "#Se lee el texto\n",
    "texto= open(\"Texto.txt\",'r',encoding=\"utf8\").read().upper()\n",
    "mensaje = texto.replace('\\n', '').replace(' ','')\n",
    "#Se ingresa la clave\n",
    "clave = input('Ingrese Clave:')\n",
    "clave = clave.upper()\n",
    "cifrado=encriptar(mensaje,clave)\n",
    "filename='Cifrado.txt'\n",
    "filew = open(filename, \"w\",encoding=\"utf-8\")\n",
    "filew.write(cifrado)\n",
    "filew.close()"
   ]
  },
  {
   "cell_type": "code",
   "execution_count": 5,
   "metadata": {},
   "outputs": [
    {
     "name": "stdout",
     "output_type": "stream",
     "text": [
      "Ingrese Clave:HOY\n"
     ]
    },
    {
     "ename": "KeyboardInterrupt",
     "evalue": "",
     "output_type": "error",
     "traceback": [
      "\u001b[1;31m---------------------------------------------------------------------------\u001b[0m",
      "\u001b[1;31mKeyboardInterrupt\u001b[0m                         Traceback (most recent call last)",
      "\u001b[1;32m<ipython-input-5-6124aa4659fe>\u001b[0m in \u001b[0;36m<module>\u001b[1;34m\u001b[0m\n\u001b[0;32m      5\u001b[0m \u001b[0mtexto\u001b[0m\u001b[1;33m=\u001b[0m \u001b[0mopen\u001b[0m\u001b[1;33m(\u001b[0m\u001b[1;34m\"Cifrado.txt\"\u001b[0m\u001b[1;33m,\u001b[0m\u001b[1;34m'r'\u001b[0m\u001b[1;33m,\u001b[0m\u001b[0mencoding\u001b[0m\u001b[1;33m=\u001b[0m\u001b[1;34m\"utf8\"\u001b[0m\u001b[1;33m)\u001b[0m\u001b[1;33m.\u001b[0m\u001b[0mread\u001b[0m\u001b[1;33m(\u001b[0m\u001b[1;33m)\u001b[0m\u001b[1;33m.\u001b[0m\u001b[0mupper\u001b[0m\u001b[1;33m(\u001b[0m\u001b[1;33m)\u001b[0m\u001b[1;33m\u001b[0m\u001b[1;33m\u001b[0m\u001b[0m\n\u001b[0;32m      6\u001b[0m \u001b[0mcifrado\u001b[0m \u001b[1;33m=\u001b[0m \u001b[0mtexto\u001b[0m\u001b[1;33m.\u001b[0m\u001b[0mreplace\u001b[0m\u001b[1;33m(\u001b[0m\u001b[1;34m'\\n'\u001b[0m\u001b[1;33m,\u001b[0m \u001b[1;34m''\u001b[0m\u001b[1;33m)\u001b[0m\u001b[1;33m.\u001b[0m\u001b[0mreplace\u001b[0m\u001b[1;33m(\u001b[0m\u001b[1;34m' '\u001b[0m\u001b[1;33m,\u001b[0m\u001b[1;34m''\u001b[0m\u001b[1;33m)\u001b[0m\u001b[1;33m\u001b[0m\u001b[1;33m\u001b[0m\u001b[0m\n\u001b[1;32m----> 7\u001b[1;33m \u001b[0mdescifrado\u001b[0m\u001b[1;33m=\u001b[0m\u001b[0mdesencriptar\u001b[0m\u001b[1;33m(\u001b[0m\u001b[0mcifrado\u001b[0m\u001b[1;33m,\u001b[0m\u001b[0mclave\u001b[0m\u001b[1;33m)\u001b[0m\u001b[1;33m\u001b[0m\u001b[1;33m\u001b[0m\u001b[0m\n\u001b[0m\u001b[0;32m      8\u001b[0m \u001b[0mfilename\u001b[0m\u001b[1;33m=\u001b[0m\u001b[1;34m'Descifrado.txt'\u001b[0m\u001b[1;33m\u001b[0m\u001b[1;33m\u001b[0m\u001b[0m\n\u001b[0;32m      9\u001b[0m \u001b[0mfilew\u001b[0m \u001b[1;33m=\u001b[0m \u001b[0mopen\u001b[0m\u001b[1;33m(\u001b[0m\u001b[0mfilename\u001b[0m\u001b[1;33m,\u001b[0m \u001b[1;34m\"w\"\u001b[0m\u001b[1;33m,\u001b[0m\u001b[0mencoding\u001b[0m\u001b[1;33m=\u001b[0m\u001b[1;34m\"utf-8\"\u001b[0m\u001b[1;33m)\u001b[0m\u001b[1;33m\u001b[0m\u001b[1;33m\u001b[0m\u001b[0m\n",
      "\u001b[1;32m<ipython-input-3-de2e9cf43934>\u001b[0m in \u001b[0;36mdesencriptar\u001b[1;34m(cifrado, clave)\u001b[0m\n\u001b[0;32m      2\u001b[0m     \u001b[1;31m#Verificar si es par la cantidad de letras para evitar errores en diccionario\u001b[0m\u001b[1;33m\u001b[0m\u001b[1;33m\u001b[0m\u001b[1;33m\u001b[0m\u001b[0m\n\u001b[0;32m      3\u001b[0m     \u001b[1;32mwhile\u001b[0m \u001b[1;33m(\u001b[0m\u001b[0mlen\u001b[0m\u001b[1;33m(\u001b[0m\u001b[0mcifrado\u001b[0m\u001b[1;33m)\u001b[0m\u001b[1;33m%\u001b[0m\u001b[1;36m2\u001b[0m\u001b[1;33m!=\u001b[0m\u001b[1;36m0\u001b[0m\u001b[1;33m)\u001b[0m\u001b[1;33m:\u001b[0m\u001b[1;33m\u001b[0m\u001b[1;33m\u001b[0m\u001b[0m\n\u001b[1;32m----> 4\u001b[1;33m         \u001b[0mcifrado\u001b[0m \u001b[1;33m+=\u001b[0m\u001b[1;34m'AA'\u001b[0m\u001b[1;33m\u001b[0m\u001b[1;33m\u001b[0m\u001b[0m\n\u001b[0m\u001b[0;32m      5\u001b[0m     \u001b[0mrows\u001b[0m \u001b[1;33m=\u001b[0m \u001b[0mmath\u001b[0m\u001b[1;33m.\u001b[0m\u001b[0mceil\u001b[0m\u001b[1;33m(\u001b[0m\u001b[0mlen\u001b[0m\u001b[1;33m(\u001b[0m\u001b[0mcifrado\u001b[0m\u001b[1;33m)\u001b[0m\u001b[1;33m/\u001b[0m\u001b[0mlen\u001b[0m\u001b[1;33m(\u001b[0m\u001b[0mclave\u001b[0m\u001b[1;33m)\u001b[0m\u001b[1;33m)\u001b[0m\u001b[1;33m\u001b[0m\u001b[1;33m\u001b[0m\u001b[0m\n\u001b[0;32m      6\u001b[0m     \u001b[0mcolumns\u001b[0m \u001b[1;33m=\u001b[0m \u001b[0mlen\u001b[0m\u001b[1;33m(\u001b[0m\u001b[0mclave\u001b[0m\u001b[1;33m)\u001b[0m\u001b[1;33m\u001b[0m\u001b[1;33m\u001b[0m\u001b[0m\n",
      "\u001b[1;31mKeyboardInterrupt\u001b[0m: "
     ]
    }
   ],
   "source": [
    "#Se ingresa la clave\n",
    "clave = input('Ingrese Clave:')\n",
    "clave = clave.upper()\n",
    "#Se lee el texto\n",
    "texto= open(\"Cifrado.txt\",'r',encoding=\"utf8\").read().upper()\n",
    "cifrado = texto.replace('\\n', '').replace(' ','')\n",
    "descifrado=desencriptar(cifrado,clave)\n",
    "filename='Descifrado.txt'\n",
    "filew = open(filename, \"w\",encoding=\"utf-8\")\n",
    "filew.write(descifrado)\n",
    "filew.close()"
   ]
  },
  {
   "cell_type": "code",
   "execution_count": null,
   "metadata": {},
   "outputs": [],
   "source": []
  }
 ],
 "metadata": {
  "kernelspec": {
   "display_name": "Python 3",
   "language": "python",
   "name": "python3"
  },
  "language_info": {
   "codemirror_mode": {
    "name": "ipython",
    "version": 3
   },
   "file_extension": ".py",
   "mimetype": "text/x-python",
   "name": "python",
   "nbconvert_exporter": "python",
   "pygments_lexer": "ipython3",
   "version": "3.7.3"
  }
 },
 "nbformat": 4,
 "nbformat_minor": 2
}
