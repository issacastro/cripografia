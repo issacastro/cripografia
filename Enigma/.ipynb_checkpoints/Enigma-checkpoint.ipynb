{
 "cells": [
  {
   "cell_type": "code",
   "execution_count": 1,
   "metadata": {},
   "outputs": [],
   "source": [
    "import numpy as np\n",
    "a = np.arange(10)"
   ]
  },
  {
   "cell_type": "code",
   "execution_count": 2,
   "metadata": {},
   "outputs": [],
   "source": [
    "dicc =  {'A':1,'B':2,'C':3,'D':4,'E':5,'F':6,'G':7,\n",
    "         'H':8,'I':9,'J':10,'K':11,'L':12,'M':13,'N':14,\n",
    "         'Ñ':15,'O':16,'P':17,'Q':18,'R':19,'S':20,'T':21,\n",
    "         'U':22,'V':23,'W':24,'X':25,'Y':26,'Z':27,' ':28}"
   ]
  },
  {
   "cell_type": "code",
   "execution_count": 3,
   "metadata": {},
   "outputs": [],
   "source": [
    "col1=np.array([1,2,3,4,5,6,7,8,9,10,11,12,13,14,15,16,17,18,19,20,21,22,23,24,25,26,27,28]) #Referencia\n",
    "col2=np.array([7,14,21,8,15,25,16,9,22,1,26,10,2,17,23,11,27,3,18,4,24,6,13,20,5,19,12,28]) #ROTOR 1\n",
    "col3=np.array([14,8,25,9,19,1,13,23,2,18,12,22,3,17,26,4,21,11,5,16,20,7,24,10,27,6,15,28]) #ROTOR 2\n",
    "col4=np.array([10,17,23,11,26,3,18,12,19,4,24,13,20,5,25,14,21,6,9,2,16,27,8,1,22,15,7,28]) #ROTOR 3\n",
    "col1aux = col1\n",
    "ref1=np.array([1,2,3,5,7,8,9,10,11,12,13,15,19,25]) #REFLECTOR DE ENTRADA\n",
    "ref2=np.array([17,4,6,20,14,16,18,21,22,24,26,28,23,27]) #REFLECTOR DE SALIDA\n"
   ]
  },
  {
   "cell_type": "code",
   "execution_count": 4,
   "metadata": {},
   "outputs": [],
   "source": [
    "bloq1 = np.matrix([(col1),(col2)]) #PROCESO 1\n",
    "bloq2 = np.matrix([(col1),(col3)]) #PROCESO 2\n",
    "bloq3 = np.matrix([(col1),(col4)]) #PROCESO 3\n",
    "refecltor = np.matrix([(ref1),(ref2)])"
   ]
  },
  {
   "cell_type": "code",
   "execution_count": 5,
   "metadata": {},
   "outputs": [],
   "source": [
    "long = len(col1) #lONGITUD DE DICCIONARIO 28 CON EL ESPACIO Y Ñ"
   ]
  },
  {
   "cell_type": "code",
   "execution_count": 6,
   "metadata": {},
   "outputs": [],
   "source": [
    "leer= open(\"Issac Cifrado.txt\",'r',encoding=\"utf8\").read().upper()\n",
    "texto = leer.replace('\\n', '')\n",
    "letras =  np.arange(len(texto))\n",
    "for i in range(len(texto)):\n",
    "    letras[i] = dicc[texto[i]]"
   ]
  },
  {
   "cell_type": "code",
   "execution_count": 7,
   "metadata": {},
   "outputs": [],
   "source": [
    "contador = 1\n",
    "letrafinal =  np.arange(len(texto))"
   ]
  },
  {
   "cell_type": "code",
   "execution_count": 8,
   "metadata": {},
   "outputs": [],
   "source": [
    "for i in range(len(letras)):\n",
    "    if contador == 85: # SI YA SE GIRRARON LOS 3 ROTORES LO RESETEO\n",
    "        contador=1\n",
    "    for j in range(long):\n",
    "        if col1[j]== letras[i]:\n",
    "            buscar1=j\n",
    "            break\n",
    "    enlace1 = bloq1[1,buscar1]\n",
    "    for k in range(long):\n",
    "        if enlace1 == col1[k]:\n",
    "            buscar2=k\n",
    "            break\n",
    "    enlace2 = bloq2[1,buscar2]\n",
    "    for l in range(long):\n",
    "        if enlace2 == col1[l]:\n",
    "            buscar3=l\n",
    "            break\n",
    "    enlace3 = bloq3[1,buscar3]\n",
    "    for m in range(len(ref1)):\n",
    "        if enlace3 == ref1[m] or enlace3 == ref2[m]:\n",
    "            if enlace3 == ref1[m]:\n",
    "                indice=1\n",
    "            else:\n",
    "                indice=0\n",
    "            regreso=m\n",
    "            break\n",
    "    regresar = refecltor[indice,regreso]\n",
    "    for n in range(long):\n",
    "        if regresar == col4[n]:\n",
    "            buscar4=n\n",
    "            break\n",
    "    enlace5=bloq3[0,buscar4]\n",
    "    for o in range(long):\n",
    "        if enlace5 == col3[o]:\n",
    "            buscar5=o\n",
    "            break\n",
    "    enlace6=bloq2[0,buscar5]\n",
    "    for p in range(long):\n",
    "        if enlace6==col2[p]:\n",
    "            buscar6=p\n",
    "            break\n",
    "    enlace7=bloq1[0,buscar6]  \n",
    "    letrafinal[i] = enlace7\n",
    "    \n",
    "    if contador <= 28: #GIRO EL ROTOR 1\n",
    "        col2 = np.roll(col2,28-1)\n",
    "        col2=col2-1\n",
    "        for a in range(len(col2)):\n",
    "            if col2[a]==0:\n",
    "                col2[a]=28\n",
    "                break\n",
    "        bloq1 = np.matrix([(col1aux),(col2)])   \n",
    "        contador= contador+1\n",
    "    elif contador >=29 and contador<=56: #GIRO EL ROTOR 2\n",
    "        col3 = np.roll(col3,28-1)\n",
    "        col3=col3-1\n",
    "        for a in range(len(col3)):\n",
    "            if col3[a]==0:\n",
    "                col3[a]=28\n",
    "                break\n",
    "        bloq2 = np.matrix([(col1aux),(col3)])   \n",
    "        contador= contador+1\n",
    "    elif contador >=57 and contador<=84: #GIRO EL ROTOR 3\n",
    "        col4 = np.roll(col4,28-1)\n",
    "        col4=col4-1\n",
    "        for a in range(len(col4)):\n",
    "            if col4[a]==0:\n",
    "                col4[a]=28\n",
    "                break\n",
    "        bloq3 = np.matrix([(col1aux),(col4)])   \n",
    "        contador= contador+1        "
   ]
  },
  {
   "cell_type": "code",
   "execution_count": 9,
   "metadata": {},
   "outputs": [
    {
     "name": "stdout",
     "output_type": "stream",
     "text": [
      "MEGUSTASCUANDOCALLASPORQUEESTASCOMOAUSENTEYMEOYESDESDELEJOSYMIVOZNOTETOCAPARECEQUELOSOJOSSETEHUBIERANVOLADOYPARECEQUEUNBESOTECERRARALABOCACOMOTODASLASCOSASESTANLLENASDEMIALMAEMERGESDELASCOSASLLENADELALMAMIAMARIPOSADESUEÑOTEPARECESAMIALMAYTEPARECESALAPALABRAMELANCOLIAMEGUSTASCUANDOCALLASYESTASCOMODISTANTEYESTASCOMOQUEJANDOTEMARIPOSAENARRULLOYMEOYESDESDELEJOSYMIVOZNOTEALCANZADEJAMEQUEMECALLECONELSILENCIOTUYODEJAMEQUETEHABLETAMBIENCONTUSILENCIOCLAROCOMOUNALAMPARASIMPLECOMOUNANILLOERESCOMOLANOCHECALLADAYCONSTELADATUSILENCIOESDEESTRELLATANLEJANOYSENCILLOMEGUSTASCUANDOCALLASPORQUEESTASCOMOAUSENTEDISTANTEYDOLOROSACOMOSIHUBIERASMUERTOUNAPALABRAENTONCESUNASONRISABASTANYESTOYALEGREALEGREDEQUENOSEACIERTO\n"
     ]
    }
   ],
   "source": [
    "descifrado=''\n",
    "\n",
    "for i in range(len(letrafinal)):\n",
    "    descifrado+=list(dicc.keys())[list(dicc.values()).index(letrafinal[i])]\n",
    "filename='Descifrado.txt'\n",
    "filew = open(filename, \"w\",encoding=\"utf-8\")\n",
    "filew.write(descifrado)\n",
    "filew.close()\n",
    "print(descifrado)"
   ]
  }
 ],
 "metadata": {
  "kernelspec": {
   "display_name": "Python 3",
   "language": "python",
   "name": "python3"
  },
  "language_info": {
   "codemirror_mode": {
    "name": "ipython",
    "version": 3
   },
   "file_extension": ".py",
   "mimetype": "text/x-python",
   "name": "python",
   "nbconvert_exporter": "python",
   "pygments_lexer": "ipython3",
   "version": "3.7.3"
  }
 },
 "nbformat": 4,
 "nbformat_minor": 2
}
