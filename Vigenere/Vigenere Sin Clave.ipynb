{
 "cells": [
  {
   "cell_type": "code",
   "execution_count": 1,
   "metadata": {},
   "outputs": [],
   "source": [
    "import sys\n",
    "import pandas as pd \n",
    "import matplotlib.pyplot as plt\n",
    "from math import gcd\n",
    "from collections import Counter"
   ]
  },
  {
   "cell_type": "code",
   "execution_count": 2,
   "metadata": {},
   "outputs": [],
   "source": [
    "def longitud_clave(mensaje):  \n",
    "#Encuentra mcd de distancias más comunes entre patrones de 3 letras repetidos\n",
    "#Recorrer el texto cifrado, manteniendo una lista de patrones y una lista de distancias de esta manera:\n",
    "#1) Cuando encuentre un nuevo patron, agréguelo a la lista de patrones\n",
    "#2) Cuando encuentre una repetición, agregue la distancia del índice actual al primer índice de ese patron a la lista de distancias \n",
    "\n",
    "\n",
    "    patrones = []\n",
    "    distancias = []\n",
    "    \n",
    "    i = 0\n",
    "    for i in range(len(mensaje) - 2):\n",
    "      patron = mensaje[i:i+3]\n",
    "      if patron not in patrones:\n",
    "        patrones.append(patron)\n",
    "        patrones.append(i)\n",
    "      else:\n",
    "        lastindex = contar(patrones, patron)\n",
    "        distancias.append(i - (patrones[lastindex + 1]))\n",
    "        \n",
    "        patrones.append(patron)\n",
    "        patrones.append(i)\n",
    "      i += 1\n",
    "        \n",
    "\n",
    "    print(distancias)\n",
    "    dCount = Counter(distancias)\n",
    "    topCount = dCount.most_common(6)\n",
    "    print(topCount)\n",
    "    my_gcd = topCount[0][0]\n",
    "    print('El Maximo comun divisor: ',my_gcd)\n",
    "    for index in range(1, len(topCount)):\n",
    "        if topCount[index][1] > 1:\n",
    "            my_gcd = gcd(my_gcd, topCount[index][0])\n",
    "    return my_gcd\n",
    "def contar(array, string):\n",
    "    i = len(array) - 1\n",
    "    while i > 0:\n",
    "      if array[i] == string:\n",
    "        return i\n",
    "      i = i - 1\n",
    "abecedario='ABCDEFGHIJKLMNÑOPQRSTUVWXYZ'\n",
    "#abecedario='ABCDEFGHIJKLMNOPQRSTUVWXYZ'\n",
    "#keyword = 'EMILY'\n",
    "#keyword = keyword.upper().replace(' ','').replace('\\n','')\n",
    "texto = open('alan.txt','r',encoding='UTF-8')\n",
    "#texto = open('miguel.txt','r',encoding='UTF-8')\n",
    "#texto = open('Carta-Cifrada.txt','r',encoding='UTF-8')\n",
    "#texto = open('Maestra.txt','r',encoding='UTF-8')\n",
    "mensaje = texto.read().upper()\n",
    "mensaje = mensaje.replace(' ','')\n",
    "mensaje = mensaje.replace('\\n','')\n",
    "#longitud_clave(mensaje)"
   ]
  },
  {
   "cell_type": "code",
   "execution_count": 3,
   "metadata": {},
   "outputs": [],
   "source": [
    "def claves(mensaje,clave_original,abecedario):\n",
    "    # Si la longitud del mensaje es mayor que la de la clave\n",
    "    # Se alarga la clave, duplicando y concatenando a si misma hasta que sean de la\n",
    "    # Misma longitud del mensaje\n",
    "    clave = ''\n",
    "    if len(mensaje)> len(clave_original):\n",
    "        for i in range(int(len(mensaje)/len(clave_original))):\n",
    "            clave += clave_original\n",
    "        clave+= clave_original[:len(mensaje)%len(clave_original)]\n",
    "\n",
    "    # Si la longitud del mensaje es menor que la de la clave\n",
    "    # Se trunca la clave para que tenga la misma longitud del mensaje\n",
    "    elif len(mensaje)<len(clave_original):\n",
    "        clave = clave_original[:len(mensaje)]\n",
    "\n",
    "    # Si la longitud del mensaje es igual al de la clave\n",
    "    elif len(mensaje)==len(clave_original):\n",
    "        clave = clave_original\n",
    "    else:\n",
    "        print('Nel perro algo salio mal')\n",
    "        sys.exit(1)\n",
    "    #print ('Mensaje original: ' + mensaje)\n",
    "    #print ('Palabra clave: ' + clave_original)\n",
    "    #print ()\n",
    "    return clave\n",
    "\n",
    "def cifrar(mensaje,abecedario,clave):\n",
    "  cifrado = ''\n",
    "  for i in range(len(mensaje)):\n",
    "    x = abecedario.find(mensaje[i]) # Se guarda la posición del caracter del mensaje en el abecedario\n",
    "    y = abecedario.find(clave[i]) # Se guarda la posición del caracter de la clave en el abecedario\n",
    "    suma = x+y # Se calcula la suma de ambas posiciones\n",
    "    modulo = suma%len(abecedario) # Se calcula el módulo de la suma respecto a la longitud del abecedario\n",
    "    cifrado += abecedario[modulo] # Se concatena el caracter cifrado con 'cifrado'\n",
    "  return cifrado\n",
    "\n",
    "def descifrar(clave,cifrado,abecedario):\n",
    "  descifrado=''\n",
    "  for i in range(len(cifrado)):\n",
    "    x=abecedario.find(cifrado[i])\n",
    "    y=abecedario.find(clave[i])\n",
    "    resta = x-y\n",
    "    modulo = resta%len(abecedario)\n",
    "    descifrado += abecedario[modulo]\n",
    "  return descifrado\n",
    "\n",
    "def char_frequency(text):\n",
    "    letras = {'A':0,'B':0,'C':0,'D':0,'E':0,'F':0,'G':0,'H':0,'I':0,'J':0,'K':0,'L':0,'M':0,'N':0,'Ñ':0,\n",
    "              'O':0,'P':0,'Q':0,'R':0,'S':0,'T':0,'U':0,'V':0,'W':0,'X':0,'Y':0,'Z':0}\n",
    "#    letras = {'A':0,'B':0,'C':0,'D':0,'E':0,'F':0,'G':0,'H':0,'I':0,'J':0,'K':0,'L':0,'M':0,'N':0,\n",
    " #             'O':0,'P':0,'Q':0,'R':0,'S':0,'T':0,'U':0,'V':0,'W':0,'X':0,'Y':0,'Z':0}\n",
    "    for caracter in text:\n",
    "        if caracter in letras.keys():\n",
    "            letras[caracter] = letras[caracter] + 1\n",
    "    return letras                                     \n",
    "    \n",
    "    \n",
    "                                            #NUEVO CODIGO#  \n",
    "        \n",
    "        \n",
    "def longitud_clave(mensaje):  \n",
    "#Encuentra mcd de distancias más comunes entre patrones de 3 letras repetidos\n",
    "#Recorrer el texto cifrado, manteniendo una lista de patrones y una lista de distancias de esta manera:\n",
    "#1) Cuando encuentre un nuevo patron, agréguelo a la lista de patrones\n",
    "#2) Cuando encuentre una repetición, agregue la distancia del índice actual al primer índice de ese patron a la lista de distancias \n",
    "\n",
    "\n",
    "    patrones = []\n",
    "    distancias = []\n",
    "    \n",
    "    i = 0\n",
    "    for i in range(len(mensaje) - 2):\n",
    "      patron = mensaje[i:i+3]\n",
    "      if patron not in patrones:\n",
    "        patrones.append(patron)\n",
    "        patrones.append(i)\n",
    "      else:\n",
    "        lastindex = contar(patrones, patron)\n",
    "        distancias.append(i - (patrones[lastindex + 1]))\n",
    "        \n",
    "        patrones.append(patron)\n",
    "        patrones.append(i)\n",
    "      i += 1\n",
    "        \n",
    "\n",
    "  \n",
    "    dCount = Counter(distancias)\n",
    "    topCount = dCount.most_common(6)\n",
    "    my_gcd = topCount[0][0]\n",
    "    for index in range(1, len(topCount)):\n",
    "        if topCount[index][1] > 1:\n",
    "            my_gcd = gcd(my_gcd, topCount[index][0])\n",
    "    return my_gcd \n",
    "        \n",
    "def subtextos(text, n):\n",
    "    subtextoes = []\n",
    "  \n",
    "    for index in range(n):\n",
    "      i = 0\n",
    "      nextword = \"\"\n",
    "      while (i + index) <= (len(text) - 1):\n",
    "        nextword += text[i + index]\n",
    "        i += n\n",
    "      \n",
    "      subtextoes.append(nextword)\n",
    "    return subtextoes\n",
    "\n",
    "def Letras_Proba(subtexto, abecedario, freq):\n",
    "#    Encuentra los cambios más probables para cada combinación y los imprime.\n",
    "#     hacer una lista de las frecuencias de cada letra en la combinación, en orden, de la A a la Z.\n",
    "#    Luego, alternar usando el método de encontrar la diferencia total (en su lista de frecuencias y lista de frecuencias)\n",
    "#    y el método de lista de rotación para completar una nueva lista de dif.\n",
    "#    Esto hace una lista de la diferencia total para cada letra de cifrado posible, de la A a la Z, en orden.\n",
    "#    Luego, encuentre los índices de los valores más pequeños en la nueva lista e i2c para las letras más probables.\n",
    "\n",
    "    subtexto_freq = []\n",
    "    dif = []\n",
    "    \n",
    "    for index in abecedario:\n",
    "      i = 0\n",
    "      number = 0\n",
    "      while i < len(subtexto):\n",
    "        if subtexto[i] == index: \n",
    "          number += 1\n",
    "        i += 1\n",
    "      \n",
    "      subtexto_freq.append( (number)/(len(subtexto)) )\n",
    "      \n",
    "\n",
    "    dif.append(diferencias(subtexto_freq, freq))\n",
    "\n",
    "    i = 0\n",
    "    while i < len(abecedario) - 1:\n",
    "      subtexto_freq = rotar_list(subtexto_freq)\n",
    "      dif.append(diferencias(subtexto_freq, freq))\n",
    "      i += 1 \n",
    "    prim_letra = 0\n",
    "    sec_letra = 1\n",
    "    \n",
    "    i = 0\n",
    "    #print(dif)\n",
    "    while i < len(dif) - 1:\n",
    "      if (dif[i] < dif[prim_letra]):\n",
    "        sec_letra = prim_letra\n",
    "        prim_letra = i\n",
    "\n",
    "      elif (dif[i] < dif[sec_letra]):\n",
    "        sec_letra = i\n",
    "      #print('P: ',abecedario[prim_letra],'PP: ',abecedario[sec_letra],'1:',prim_letra,'2: ',sec_letra)\n",
    "\n",
    "      i += 1\n",
    "    \n",
    "    letter1 = abecedario[prim_letra]\n",
    "    letter2 = abecedario[sec_letra]\n",
    "    print('Desviacion Media 1°: ',dif[prim_letra])\n",
    "    print('Desviacion Media 2°: ',dif[sec_letra])\n",
    "    return \"Mas posible: \" + letter1 + \" Despues: \" + letter2\n",
    "\n",
    "def diferencias(list1, list2):\n",
    "    \n",
    "    total = 0\n",
    "    i = 0\n",
    "    while i < len(list1):\n",
    "      total += abs(list2[i] - list1[i])\n",
    "      i += 1\n",
    "    \n",
    "    return total\n",
    "\n",
    "def rotar_list(old_list):  \n",
    "    nue_listt = old_list[:]\n",
    "    nue_listt.append(old_list[0])\n",
    "    del nue_listt[0]\n",
    "    return nue_listt\n",
    "\n",
    "def contar(array, string):\n",
    "    i = len(array) - 1\n",
    "    while i > 0:\n",
    "      if array[i] == string:\n",
    "        return i\n",
    "      i = i - 1\n",
    "    \n",
    "    return 0\n",
    "def Graficas(freq,texto,abecedario):\n",
    "    data_freq={'letra':list(abecedario),'Freq':freq}\n",
    "    df = pd.DataFrame(data_freq).set_index('letra', drop=False)\n",
    "    plt.figure()\n",
    "    plt.subplot(311)\n",
    "    plt.title('Frecuencias de Letras')\n",
    "    plt.bar(df['letra'],df['Freq'])\n",
    "    plt.subplot(313)\n",
    "    plt.title('Analisis de Letras')\n",
    "    plt.bar(char_frequency(texto).keys(),char_frequency(texto).values())\n",
    "    plt.show()"
   ]
  },
  {
   "cell_type": "code",
   "execution_count": null,
   "metadata": {},
   "outputs": [],
   "source": [
    "def VSINC(mensaje,abecedario,freq):\n",
    "  print('El texto cifrado es:')\n",
    "  print(mensaje)\n",
    "  print()\n",
    "  #print('La longitud sugerida es: ',longitud_clave(mensaje))\n",
    "  longitud=int(input('Ingrese Longitud de la llave:'))\n",
    "  textos =  subtextos(mensaje,longitud)\n",
    "  for index in range(len(textos)):\n",
    "    print(\"Letra \" + str(index + 1) + \", \" + Letras_Proba(textos[index], abecedario, freq) + \".\")\n",
    "    Graficas(freq,textos[index],abecedario)\n",
    "  res=input('Desea cambiar la longitud ? : S/N ').upper()\n",
    "  while(res =='S'):\n",
    "    longitud=int(input('Ingrese Longitud de la llave:'))\n",
    "    textos =  make_textos(mensaje,longitud)\n",
    "    for index in range(len(textos)):\n",
    "        print(\"Letra \" + str(index + 1) + \", \" + Letras_Proba(textos[index], abecedario, freq) + \".\")\n",
    "    res=input('Desea cambiar la longitud ? : S/N ').upper()\n",
    "  abecedario = 'ABCDEFGHIJKLMNÑOPQRSTUVWXYZ'\n",
    "  clave_original = input(\"Escribe la llave que quieres intentar: \").upper()\n",
    "  texto= open(\"miguel.txt\",'r',encoding=\"utf8\").read().upper()\n",
    "  cifrado = texto.replace('\\n', '')\n",
    "  cifrado =  cifrado.replace(' ','')\n",
    "  clave = claves(cifrado,clave_original,abecedario)\n",
    "  descifrado = descifrar(clave,cifrado,abecedario)\n",
    "  return descifrado\n"
   ]
  },
  {
   "cell_type": "code",
   "execution_count": null,
   "metadata": {},
   "outputs": [
    {
     "name": "stdout",
     "output_type": "stream",
     "text": [
      "El texto cifrado es:\n",
      "OSAYEQMKRDHWPDCSTLCLSJOWHAVENCAVIRUPQADOAOGUHXHSOVODPMDBEFPDCSTLCLSJOCSQXELKPAVAOHSXSQACLSJATSROEORHDTSCOLIBOÑEWMPBDUNTWOHHIÑODAAOAWWCDSMUPAEPÑDNEIUMEVHELIFIGISGUHJNTSHEAACELPGELKDBYWAIWASVLSMMPRÑAFOUOHQXELTWEQAPTUIFRHPEKPRPEKPHLYHAPZAPJHUNTLBEPUEGHHRHRFRLMIKPMHNXWWOPHSXPHRHLLEÑHMTWOOAWBPDCEKTRDSAOQYWPHNWSQAQYWNHCILXTDRMSOEXAEXNEFIVTSDPGESVUDRPPDTSLDHTSÑAVOSAGOWUPXWRLDDSFAUAUEMSUXSSOUAKNPEFYUQLIRLMFSYBAGRIAEDMHDLNIKESAVSQXEJOOAVSEÑGSBIRNJKELSSEMAVAPFEVUPGEDPFAWSDHWNAEUIDPPIKEHLIXLÑOVTSAGHEÑGZPTRWWLRKSITRIFLDQNTVDLAITRRMWJADIEÑLHBBUEKPDLOEUJIYOPRRDETUIIETYÑETUIXRCEEXNDDSPÑAUPSDHWSXETKEÑAPRRWAFAPACOSITNFOQMHOANCSEVKEOUKKXEPTSTLCYSALBEIIJUMWCDREFAFOFOUOHQXEWITHHWRIGEWBPHZEKACSKHEUTSHAVIKSLOHPHRHAPPIKEHLITRUODTVEKNXAEOFAVOFRRNXHPDCSJUYODPLDISDHEÑTNWAVDTHLIPNQYWHDBMSMHTMVEGEQMHODIIUMSUWIÑAIPRDOHVRDRSAEMAVLTGEWAAOBEWEVIUMEFEHNLKOOGZXLDQHLRGVHEPCSFJRDRWASAQPDCSTSWAFSMXYIHEVISFPDRCSQXEWASEVKEVESREUCETPOAWÑOAWPHLCOTYÑEGEHJRDSIRIRNEPSQYWAYEQMPRÑEDESZEIPTRSVTSACSIOTSROHMREXNMXRRTWHFHCXHSEVHAWIQSCDRLIWAFIEETUOTAAPCSYDUNTÑOWOASAXHIÑEITGDRSFEPOSCDBIRPGENCAAQUXAPAJKEAGSQAEAVTFOPIHAUWNIFAPITCKAQSISAVSEÑPSHIGOTLGSDFELEWICOUPEUEAAPSTHEAQUXAPAQTLREKSXSKXCDSUPMSEGZPNDSFAFOFEVEIKDRHAICXLTSHBAJKEEOFEURSAOCSFJIPUETPVIKNXEPDSPRRDETUIAETYÑETUISAUIDPDNQPWOHHASLELJAGOLTVUEECKIOSQXEWCCRNXKEÑUIYEGEDPNCAVAOVDSFAWOWPHRSAOQYWNRWWAFOVVPBDILQXEWASEVKEÑOWITDBEIIJUMWCDRIERLSGUHHWIPXEWSEDEKAEEOFAPEAAAQUXAPAWASEVKEVEDTÑAQREDIDAAYIPCRTNSIHNHHIESEDLAUFAFOQPKAFAPFAPACAGOTPSWAQMTOAWSELSGUHLSQIDGSBIPAHHCXAOJKIHRVXADIIUVMVPBYLRODIFJRRHWSXPHRHLLEPLJUQSCRSEGUHOHPXDMWHADMLJRDEVSEÑKKPNAFNHRLMMWCTRDESRMETRRUNTVAGHFXEITLXSEGUHWWHDBMSJXNXSSOTHHÑOJKEDIUXDHXAHAULEPÑAUPLÑEAOSIYKNGOJKESEUEIUIIUHMLJOUIIMPPIKEVEVXOCYWCTDUNTÑAIXSWOOSDHEYKAQYWHDBMSMHTMVEGEVKPMRXHSAEOPGXABOMAQVEDSMIUHMLJOUIIMPPEUEBAWITDBEBOÑEWMEYEGUHILJAEAUPNVAHHPOMTNLALKSAQPPÑAWMPDRLKKIWMERLEXSSHPHYOTSROEORHDTSÑAEWMPBDIFSXOABIWEFEUOWCHSSEBVEVÑEDOHLHJSLUPOHRAÑHWVLDIHYUHGSLEPIDCXAOIEGEFPBDSNCFIIKJONYETRRHWPDRXASAVQHPDGETPSIDCUEMSQXEWAHRETLMIBERIFJRREDLRCEDMXYLTGXRSSESMBIVMSÑHSTWHOEQAAFMDPGELKMUIYEIAZHHIWOWAFUEDEUAAIJAVTÑEKWCDDSCXAQVEIUIIUTYKCOWSROSYJEFLEVEFOQTLCYSAVELTNWIEBUBFATNJYYPNGOTSFOKAEDWNPHRWHCAMEXPVRRMMEBIEFECOSJXGEKÑAIHIOEVSPDRXASALEVAPOFAUADPVEKNCDDCSEVTETPOUCROPFMSSOPSKLRUNTSEVVXOIEFECOSIPSYDJAUEIUVGHBPDÑIKESDIYUHGSALSLCXAOWIÑEWSEFIEGUHQHSHRZAPNPEKPHSIYUHGSÑTUIBEMOVIERIMXRDREFSLQHSDBMSCMUKSHEVSTDNXHEÑSVXODIAOVHWBAVNNVAGOVWIKAGAPSAGHEÑGZPTRUNTÑEIXDLEVHCDIDEPCEKVAGOJKELSIAFAVSCBAJKEEVSUPAEELHSXAPSAVSLRSVTMDSBKGDDSKTSIDEPCEKVAGOZXZROHPHRXACEPTIPRRDETUIIAFOSPDCSTLCLSJOYJKEGAQVESHGHCVUMTCÑAHHPEUEPOMKVRHWOWREEPFISFMDSJKECSFJIPUEKCRNLKYIEBTKAGAPÑAUPSDHWSXETKEÑAIAFOLKGAHHPDRESIVTVSTRVEÑAQYWNRTNSOUWSHVUÑXOÑIQÑAQYWNRPWJIRWNAUCSSESYLIRLMFPRRDETUICOLIIEUVMSDHQSSAHWIPXEWSEUQVRDNÑXAMEIERFMFALSAEMOWAOJRSLEUOSCDSESESYPBXEOSOIIFJRDSEPSSIPCHRGSQAPSVXAOFLTRYAVGUHLSQIDYFPDPIDPHGEVEHNDPSUIKJAYFPYEDGUHODTGROHVRROWTRLSGUHIDPDPIDCRNXWCIDWHAUQBEPSEBTGELKDBYWAAQYWLHHWRIDUNTKAFAPVAOASOAÑXSLTEKASYCIHTSFAFOWAFHEMEPSKLRUNTWOHHEÑZAPJHQHHDBMSSLDSCEFEWSHIRQPDCSTLCLSJOEPITZRSMHOVMSYEDIHEJRILEDGSIA\n",
      "\n",
      "Ingrese Longitud de la llave:6\n",
      "Desviacion Media 1°:  0.5918021696252466\n",
      "Desviacion Media 2°:  0.5918021696252466\n",
      "Letra 1, Mas posible: A Despues: A.\n"
     ]
    },
    {
     "data": {
      "image/png": "[encoded data removed]",
      "text/plain": [
       "<Figure size 432x288 with 2 Axes>"
      ]
     },
     "metadata": {
      "needs_background": "light"
     },
     "output_type": "display_data"
    },
    {
     "name": "stdout",
     "output_type": "stream",
     "text": [
      "Desviacion Media 1°:  0.5685229249011857\n",
      "Desviacion Media 2°:  0.5685229249011857\n",
      "Letra 2, Mas posible: A Despues: A.\n"
     ]
    },
    {
     "data": {
      "image/png": "[encoded data removed]",
      "text/plain": [
       "<Figure size 432x288 with 2 Axes>"
      ]
     },
     "metadata": {
      "needs_background": "light"
     },
     "output_type": "display_data"
    },
    {
     "name": "stdout",
     "output_type": "stream",
     "text": [
      "Desviacion Media 1°:  0.5219766798418973\n",
      "Desviacion Media 2°:  0.5219766798418973\n",
      "Letra 3, Mas posible: A Despues: A.\n"
     ]
    },
    {
     "data": {
      "image/png": "[encoded data removed]",
      "text/plain": [
       "<Figure size 432x288 with 2 Axes>"
      ]
     },
     "metadata": {
      "needs_background": "light"
     },
     "output_type": "display_data"
    },
    {
     "name": "stdout",
     "output_type": "stream",
     "text": [
      "Desviacion Media 1°:  0.5308075098814229\n",
      "Desviacion Media 2°:  0.5308075098814229\n",
      "Letra 4, Mas posible: A Despues: A.\n"
     ]
    },
    {
     "data": {
      "image/png": "[encoded data removed]",
      "text/plain": [
       "<Figure size 432x288 with 2 Axes>"
      ]
     },
     "metadata": {
      "needs_background": "light"
     },
     "output_type": "display_data"
    },
    {
     "name": "stdout",
     "output_type": "stream",
     "text": [
      "Desviacion Media 1°:  0.5250525691699605\n",
      "Desviacion Media 2°:  0.5250525691699605\n",
      "Letra 5, Mas posible: A Despues: A.\n"
     ]
    },
    {
     "data": {
      "image/png": "[encoded data removed]",
      "text/plain": [
       "<Figure size 432x288 with 2 Axes>"
      ]
     },
     "metadata": {
      "needs_background": "light"
     },
     "output_type": "display_data"
    },
    {
     "name": "stdout",
     "output_type": "stream",
     "text": [
      "Desviacion Media 1°:  0.5852027667984189\n",
      "Desviacion Media 2°:  0.5852027667984189\n",
      "Letra 6, Mas posible: A Despues: A.\n"
     ]
    },
    {
     "data": {
      "image/png": "[encoded data removed]",
      "text/plain": [
       "<Figure size 432x288 with 2 Axes>"
      ]
     },
     "metadata": {
      "needs_background": "light"
     },
     "output_type": "display_data"
    }
   ],
   "source": [
    "#clave = Gclave(mensaje,keyword,abecedario) \n",
    "#descifrado =descifrar(clave,mensaje,abecedario)\n",
    "data = pd.read_csv(\"es_frec.csv\")\n",
    "#data = pd.read_csv(\"eng_frec.csv\")\n",
    "#data.head()\n",
    "freq= data['Freq'].values.tolist()\n",
    "\n",
    "print(VSINC(mensaje,abecedario,freq))"
   ]
  },
  {
   "cell_type": "code",
   "execution_count": null,
   "metadata": {},
   "outputs": [],
   "source": []
  }
 ],
 "metadata": {
  "kernelspec": {
   "display_name": "Python 3",
   "language": "python",
   "name": "python3"
  },
  "language_info": {
   "codemirror_mode": {
    "name": "ipython",
    "version": 3
   },
   "file_extension": ".py",
   "mimetype": "text/x-python",
   "name": "python",
   "nbconvert_exporter": "python",
   "pygments_lexer": "ipython3",
   "version": "3.7.3"
  }
 },
 "nbformat": 4,
 "nbformat_minor": 2
}
