{
 "cells": [
  {
   "cell_type": "code",
   "execution_count": 1,
   "metadata": {},
   "outputs": [],
   "source": [
    "import sys"
   ]
  },
  {
   "cell_type": "code",
   "execution_count": 2,
   "metadata": {},
   "outputs": [],
   "source": [
    "def claves(mensaje,clave_original,abecedario):\n",
    "    # Si la longitud del mensaje es mayor que la de la clave\n",
    "    # Se alarga la clave, duplicando y concatenando a si misma hasta que sean de la\n",
    "    # Misma longitud del mensaje\n",
    "    clave = ''\n",
    "    if len(mensaje)> len(clave_original):\n",
    "        for i in range(int(len(mensaje)/len(clave_original))):\n",
    "            clave += clave_original\n",
    "        clave+= clave_original[:len(mensaje)%len(clave_original)]\n",
    "\n",
    "    # Si la longitud del mensaje es menor que la de la clave\n",
    "    # Se trunca la clave para que tenga la misma longitud del mensaje\n",
    "    elif len(mensaje)<len(clave_original):\n",
    "        clave = clave_original[:len(mensaje)]\n",
    "\n",
    "    # Si la longitud del mensaje es igual al de la clave\n",
    "    elif len(mensaje)==len(clave_original):\n",
    "        clave = clave_original\n",
    "    else:\n",
    "        print('Nel perro algo salio mal')\n",
    "        sys.exit(1)\n",
    "    #print ('Mensaje original: ' + mensaje)\n",
    "    #print ('Palabra clave: ' + clave_original)\n",
    "    #print ()\n",
    "    return clave"
   ]
  },
  {
   "cell_type": "code",
   "execution_count": 3,
   "metadata": {},
   "outputs": [],
   "source": [
    "def cifrar(clave,mensaje,abecedario):\n",
    "    cifrado = ''\n",
    "    for i in range(len(mensaje)):\n",
    "        #Se guarda la posicion del caracter del mensaje en el abecedario\n",
    "        x = abecedario.find(mensaje[i])\n",
    "        #Se guarda la posision del caracter de la clav en el abecedario\n",
    "        y = abecedario.find(clave[i])\n",
    "        #Se calcula la suma de ambas posiciones\n",
    "        suma = x+y \n",
    "        #Se calcula el modulo de la suma respeto al abecedario\n",
    "        modulo =  suma%len(abecedario)\n",
    "        #Se concatena el caracter cifrado con cifrado\n",
    "        cifrado += abecedario[modulo]\n",
    "    return cifrado"
   ]
  },
  {
   "cell_type": "code",
   "execution_count": 4,
   "metadata": {},
   "outputs": [],
   "source": [
    "def descifrar(clave,cifrado,abecedario):\n",
    "    descifrado=''\n",
    "    for i in range(len(cifrado)):\n",
    "        x=abecedario.find(cifrado[i])\n",
    "        y=abecedario.find(clave[i])\n",
    "        resta = x-y\n",
    "        modulo = resta%len(abecedario)\n",
    "        descifrado += abecedario[modulo]\n",
    "    return descifrado"
   ]
  },
  {
   "cell_type": "code",
   "execution_count": 5,
   "metadata": {},
   "outputs": [
    {
     "name": "stdout",
     "output_type": "stream",
     "text": [
      "Introduzca el mensaje a cifrar: HOLA MONO FEO\n",
      "Introduzca la palabra clave: CLAVE\n",
      "\n",
      "Mensaje cifrado: JZLVQQYOAIQ\n",
      "\n",
      "Mensaje descifrado: HOLAMONOFEO\n",
      "\n"
     ]
    }
   ],
   "source": [
    "abecedario = 'ABCDEFGHIJKLMNOPQRSTUVWXYZ'\n",
    "mensaje = str(input(\"Introduzca el mensaje a cifrar: \"))\n",
    "mensaje = mensaje.replace(' ', '').upper() # Se guarda el mensaje en mayúsculas y sin espacios #\n",
    "clave_original = str(input(\"Introduzca la palabra clave: \"))\n",
    "print()\n",
    "clave_original = clave_original.replace(' ', '').upper() # Se guarda la clave en mayúsculas y sin espacios #\n",
    "clave = claves(mensaje,clave_original,abecedario)\n",
    "cifrado = cifrar(clave,mensaje,abecedario)\n",
    "print('Mensaje cifrado:',cifrado)\n",
    "print()\n",
    "descifrado = descifrar(clave,cifrado,abecedario)\n",
    "print('Mensaje descifrado:',descifrado)\n",
    "print()"
   ]
  },
  {
   "cell_type": "code",
   "execution_count": 8,
   "metadata": {},
   "outputs": [
    {
     "name": "stdout",
     "output_type": "stream",
     "text": [
      "Mensaje Descrifrado:\n",
      "ELCAPITANNEMOSELEVANTOYYOLESEGUIPORUNADOBLEPUERTASITUADAALFONDODELAPIEZAENTREENUNASALADEDIMENSIONESSEMEJANTESALASDELCOMEDORERALABIBLIOTECAALTOSMUEBLESDEPALISANDRONEGROCONINCRUSTRACIONESDECOBRESOPORTABANENSUSANCHOSESTANTESUNGRANNUMERODELIBROSENCUADERNADOSCONUNIFORMIDADLASESTANTERIASSEADAPTABANALCONTORNODELASALAYTERMINABANENSUPARTEINFERIORENUNOSAMPLIOSDIVANESTAPIZADOSCONCUEROMARRONYEXTRAORDINARIAMENTECOMODOSUNOSLIGEROSPUPITRESMOVILESQUEPODIANACERCARSEOSEPARARSEAVOLUNTADSERVIANDESOPORTEALOSLIBROSENCURSODELECTURAODECONSULTAENELCENTROHABIAUNAGRANMESACUBIERTADEPUBLICACIONESENTRELASQUEAPARECIANALGUNOSPERIODICOSYAVIEJOSLALUZELECTRICAQUEEMANABADECUATROGLOBOSDESLUSTRADOSSEMIENCAJADOSENLASVOLUTASDELTECHOINUNDABATANARMONIOSOCONJUNTOYOCONTEMPLABACONUNAREALADMIRACIONAQUELLASALATANINGENIOSAMENTEAMUEBLADAYAPENASPODIADARCREDITOAMISOJOSCAPITANNEMOADIJEAMIHUESPEDQUEACABABADESENTARSEENUNDIVANAHEAQUIUNABIBLIOTECAQUEHONRARIAAMASDEUNPALACIODELOSCONTINENTESYESUNAMARAVILLAQUEESTABIBLIOTECAPUEDASEGUIRLEHASTALOMASPROFUNDODELOSMARESADONDEPODRIAHALLARSEMAYORSOLEDADMAYORSILENCIOSENORPROFESORPUEDEUSTEDHALLARTANTACALMAENSUGABINETEDETRABAJODELMUSEOANOSENORYDEBOCONFESARQUEALLADODELSUYOESMUYPOBREHAYAQUIPORLOMENOSSEISOSIETEMILVOLUMENESNOADOCEMILSENORARONNAXSONLOSUNICOSLAZOSQUEMELIGANALATIERRAPEROELMUNDOSEACABOPARAMIELDIAENQUEMINAUTILUSSESUMERGIOPORVEZPRIMERABAJOLASAGUASAQUELDIACOMPREMISULTIMOSLIBROSYMISULTIMOSPERIODICOSYDESDEENTONCESQUIEROCREERQUELAHUMANIDADHACESADODEPENSARYDEESCRIBIRSENORPROFESORESOSLIBROSESTANASUDISPOSICIONYPUEDEUTILIZARLOSCONTODALIBERTADDILASGRACIASALCAPITANNEMOYMEACERQUEALOSESTANTESDELABIBLIOTECAABUNDABANENELLALOSLIBROSDECIENCIADEMORALYDELITERATURAESCRITOSENNUMEROSOSIDIOMASPERONOVINIUNASOLAOBRADEECONOMIAPOLITICADISCIPLINAQUEALPARECERESTABAALLISEVERAMENTEPROSCRITADETALLECURIOSOERAELHECHODEQUETODOSAQUELLOSLIBROSCUALQUIERAQUEFUESELALENGUAENQUEESTABANESCRITOSSEHALLARANCLASIFICADOSINDISTINTAMENTETALMEZCLAPROBABAQUEELCAPITANDELNAUTILUSDEBIALEERCORRIENTEMENTELOSVOLUMENESQUESUMANOTOMABAALAZARENTRETANTOSLIBROSVILASOBRASMAESTRASDELOSMASGRANDESESCRITORESANTIGUOSYMODERNOSESDECIRTODOLOQUELAHUMANIDADHAPRODUCIDODEMASBELLOENLAHISTORIALAPOESIALANOVELAYLACIENCIADESDEHOMEROHASTAVICTORHUGODESDEJENOFONTEHASTAMICHELETDESDERABELAISHASTALASENORASANDPEROLOSPRINCIPALESFONDOSDELABIBLIOTECAESTABANINTEGRADOSPOROBRASCIENTIFICASLOSLIBROSDEMECANICADEBALISTICADEHIDROGRAFIADEMETEOROLOGIADEGEOGRAFIADEGEOLOGIAETCOCUPABANENELLAUNLUGARNOMENOSAMPLIOQUELASOBRASDEHISTORIANATURALYCOMPRENDIQUECONSTITUIANELPRINCIPALESTUDIODELCAPITANVIALLITODASLASOBRASDEHUMBOLDTDEARAGOLOSTRABAJOSDEFOUCAULTDEHENRISAINTEACLAIREDEVILLEDECHASLESDEMILNEAEDWARDSDEQUATREFAGESDETYNDALLDEFARADAYDEBERTHELOTDELABATESECCHIDEPETERMANNDELCOMANDANTEMAURYDEAGASSIZETCLASMEMORIASDELAACADEMIADECIENCIASLOSBOLETINESDEDIFERENTESSOCIEDADESDEGEOGRAFIAETCETERAYTAMBIENYENBUENLUGARLOSDOSVOLUMENESQUEMEHABIANVALIDOPROBABLEMENTEESAACOGIDARELATIVAMENTECARITATIVADELCAPITANNEMOENTRELASOBRASQUEALLIVIDEJOSEPHBERTRANDLATITULADALOSFUNDADORESDELAASTRONOMIAMEDIOINCLUSOUNAFECHADEREFERENCIACOMOYOSABIAQUEDICHAOBRADATABADEAAAAPUDEINFERIRQUELAINSTALACIONDELNAUTILUSNOSEREMONTABAAUNAEPOCAANTERIORLAASIPUESLAEXISTENCIASUBMARINADELCAPITANNEMONOPASABADETRESANOSCOMOMAXIMOTALVEZAMEDIJEAHALLARAOBRASMASRECIENTESQUEMEPERMITIERANFIJARCONEXACTITUDLAEPOCAPEROTENIAMUCHOTIEMPOANTEMIPARAPROCEDERATALINVESTIGACIONYNOQUISERETRASARMASNUESTROPASEOPORLASMARAVILLASDELNAUTILUS\n"
     ]
    }
   ],
   "source": [
    "texto= open(\"Saul.txt\",'r',encoding=\"utf8\").read().upper()\n",
    "cifrado = texto.replace('\\n', '')\n",
    "cifrado =  cifrado.replace(' ','')\n",
    "clave = claves(cifrado,'LUNAS',abecedario)\n",
    "descrifrado = descifrar(clave,cifrado,abecedario)\n",
    "print('Mensaje Descrifrado:')\n",
    "print(descrifrado)\n",
    "\n"
   ]
  },
  {
   "cell_type": "code",
   "execution_count": 7,
   "metadata": {},
   "outputs": [
    {
     "name": "stdout",
     "output_type": "stream",
     "text": [
      "BLJHFNHTCUWDDRFJYUBMBKQACLKUSIKBZCUUDDRIWHUPWTQUSUQDJQYAHYTMADDMLJPUKFJWVCPXUTSPXUTSEAHUZCCPUGAAHMHFNHKDYYHWZCCPUZMXVUHFHWEBEDHMWRQZYBCLDBZCBWJVMDWXORCKYBEJOUUUQLSVGBWXWLWHIHRQLDSMAPYBCCKEIQQDBHLXWRSQJYURZHZEFIBWXCSQDIHZNHDOQRQDSPCREFSRQURRAXDYQXQMWRQHHSBORHYQNPFHWBFQFCLUEKQRDDRWXXVWJUWXSADSQBBOLBZRQHSOLQDLSYARKGCKHVCPNWXSKXUDSTNUOAMVHDHBRHIOKJQUJCABCCKNQJCLNLIPMAQ\n"
     ]
    }
   ],
   "source": [
    "texto= open(\"Maestra.txt\",'r',encoding=\"utf8\").read().upper()\n",
    "mensaje = texto.replace('\\n', '').replace(' ','')\n",
    "clave = claves(mensaje,'FRIDA',abecedario)\n",
    "x = cifrar(clave,mensaje,abecedario)\n",
    "print(x)\n",
    "filename='Carta-Cifrada.txt'\n",
    "filew = open(filename, \"w\",encoding=\"utf-8\")\n",
    "filew.write(x)\n",
    "filew.close()"
   ]
  }
 ],
 "metadata": {
  "kernelspec": {
   "display_name": "Python 3",
   "language": "python",
   "name": "python3"
  },
  "language_info": {
   "codemirror_mode": {
    "name": "ipython",
    "version": 3
   },
   "file_extension": ".py",
   "mimetype": "text/x-python",
   "name": "python",
   "nbconvert_exporter": "python",
   "pygments_lexer": "ipython3",
   "version": "3.7.3"
  }
 },
 "nbformat": 4,
 "nbformat_minor": 2
}
