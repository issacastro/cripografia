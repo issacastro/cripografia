{
 "cells": [
  {
   "cell_type": "code",
   "execution_count": 1,
   "metadata": {},
   "outputs": [],
   "source": [
    "from ipynb.fs.defs.f_function import f\n",
    "from ipynb.fs.defs.key_scheduler import key_scheduler\n",
    "\n",
    "def decrypt(cipher, keys):\n",
    "\n",
    "    # Divide el texto en fragmentos de 64 bits\n",
    "    blocks = []\n",
    "    for i in range(0, len(cipher), 64):\n",
    "        blocks.append(cipher[i:i+64])\n",
    "\n",
    "\n",
    "    # Cifrar fragmentos\n",
    "    d_list = []\n",
    "    for block in blocks:\n",
    "        d_list.append(_plaintext(block, keys))\n",
    "\n",
    "\n",
    "    # Combina trozos de nuevo en una sola cuerda\n",
    "    out = \"\"\n",
    "    for block in d_list:\n",
    "        out += _bin_to_ascii(block)\n",
    "\n",
    "\n",
    "    return out\n",
    "\n",
    "\n",
    "\n",
    "def _plaintext(bit64, keys):\n",
    "\n",
    "    # TABLA IP\n",
    "    ip = [58, 50, 42, 34, 26, 18, 10, 2,\n",
    "          60, 52, 44, 36, 28, 20, 12, 4,\n",
    "          62, 54, 46, 38, 30, 22, 14, 6,\n",
    "          64, 56, 48, 40, 32, 24, 16, 8,\n",
    "          57, 49, 41, 33, 25, 17,  9, 1,\n",
    "          59, 51, 43, 35, 27, 19, 11, 3,\n",
    "          61, 53, 45, 37, 29, 21, 13, 5,\n",
    "          63, 55, 47, 39, 31, 23, 15, 7]\n",
    "\n",
    "    # TABLA FP\n",
    "    fp = [40,  8, 48, 16, 56, 24, 64, 32,\n",
    "          39,  7, 47, 15, 55, 23, 63, 31,\n",
    "          38,  6, 46, 14, 54, 22, 62, 30,\n",
    "          37,  5, 45, 13, 53, 21, 61, 29,\n",
    "          36,  4, 44, 12, 52, 20, 60, 28,\n",
    "          35,  3, 43, 11, 51, 19, 59, 27,\n",
    "          34,  2, 42, 10, 50, 18, 58, 26,\n",
    "          33,  1, 41,  9, 49, 17, 57, 25]\n",
    "\n",
    "\n",
    "    # Aplicamos tabla IP\n",
    "    p = \"\"\n",
    "    for number in ip:\n",
    "        p+= bit64[number-1]\n",
    "\n",
    "\n",
    "    # Lo dividimos en 2\n",
    "    ln = p[:32]\n",
    "    rn = p[32:]\n",
    "#16 rondas de descifrado, rotación y XORing cada mitad después de cada ronda\n",
    "#Observe que para el descifrado, el algoritmo comienza con la mitad izquierda como\n",
    "#opuesto a la mitad derecha con cifrado, e itera hacia atrás\n",
    "#a través del conjunto de claves.\n",
    "    for i in range(15, -1, -1):\n",
    "        temp = ln\n",
    "        ln = bin(int(rn, 2) ^ int(f(ln, keys[i]), 2))[2:].zfill(32)\n",
    "        rn = temp\n",
    "\n",
    "    #Combine las mitades izquierda y derecha y realice la permutación final\n",
    "    combined = ln + rn\n",
    "    out = \"\"\n",
    "    for number in fp:\n",
    "        out += combined[number-1]\n",
    "\n",
    "\n",
    "    return out\n",
    "        \n",
    "\n",
    "\n",
    "\n",
    "# Convert binary to ASCII text\n",
    "def _bin_to_ascii(bit64):\n",
    "    out = \"\"\n",
    "    for i in range(0, 64, 8):\n",
    "        out += chr(int(bit64[i:i+8], 2))\n",
    "\n",
    "    #out.replace(\"\\x00\", \"\")\n",
    "    return out\n"
   ]
  },
  {
   "cell_type": "code",
   "execution_count": 2,
   "metadata": {},
   "outputs": [
    {
     "name": "stdout",
     "output_type": "stream",
     "text": [
      "Saludos a todos\u0000\n"
     ]
    }
   ],
   "source": [
    "key = open(\"HKey.txt\",'r',encoding=\"utf8\").read().replace(\" \",\"\")\n",
    "cifrado = open(\"HCifrado.txt\",'r',encoding=\"utf8\").read().replace(\" \",\"\")\n",
    "keys =  key_scheduler(key)\n",
    "descifrado =  decrypt(cifrado, keys)\n",
    "filename='Descifrado.txt'\n",
    "filew = open(filename, \"w\",encoding=\"utf-8\")\n",
    "filew.write(descifrado)\n",
    "filew.close()\n",
    "print(descifrado)"
   ]
  },
  {
   "cell_type": "code",
   "execution_count": 3,
   "metadata": {},
   "outputs": [
    {
     "data": {
      "text/plain": [
       "'1111100000111110000011111000001111100000111110000011111000001111'"
      ]
     },
     "execution_count": 3,
     "metadata": {},
     "output_type": "execute_result"
    }
   ],
   "source": [
    "key"
   ]
  },
  {
   "cell_type": "code",
   "execution_count": 4,
   "metadata": {},
   "outputs": [
    {
     "name": "stdout",
     "output_type": "stream",
     "text": [
      "00011000011000111011010000010000000101101010010100011101100111011110010111001010001000101010011111001001111010000000011100100111\n"
     ]
    }
   ],
   "source": [
    "print(cifrado)"
   ]
  },
  {
   "cell_type": "code",
   "execution_count": null,
   "metadata": {},
   "outputs": [],
   "source": []
  }
 ],
 "metadata": {
  "kernelspec": {
   "display_name": "Python 3",
   "language": "python",
   "name": "python3"
  },
  "language_info": {
   "codemirror_mode": {
    "name": "ipython",
    "version": 3
   },
   "file_extension": ".py",
   "mimetype": "text/x-python",
   "name": "python",
   "nbconvert_exporter": "python",
   "pygments_lexer": "ipython3",
   "version": "3.7.3"
  }
 },
 "nbformat": 4,
 "nbformat_minor": 2
}
