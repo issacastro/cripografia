{
 "cells": [
  {
   "cell_type": "code",
   "execution_count": 1,
   "metadata": {},
   "outputs": [],
   "source": [
    "from ipynb.fs.defs.f_function import f\n",
    "from ipynb.fs.defs.key_scheduler import key_scheduler\n",
    "\n",
    "def encrypt(text, keys):\n",
    "\n",
    "    # Divide el texto en fragmentos de 64 bits\n",
    "    blocks = []\n",
    "    for i in range(0, len(text), 8):\n",
    "        blocks.append(text[i:i+8])\n",
    "        \n",
    "    # Cifrar fragmentos\n",
    "    e_list = []\n",
    "    for block in blocks:\n",
    "        e_list.append(_cipher(_ascii_to_bin(block), keys))\n",
    "\n",
    "\n",
    "    # Pasa todo a una fila de binarios\n",
    "    out = \"\"\n",
    "    for block in e_list:\n",
    "        #out += _bin_to_ascii(block)    # ASCII output\n",
    "        #out += hex(int(block, 2))      # Hex output\n",
    "        out += block                    # Binary output\n",
    "\n",
    "    #print(_ascii_to_bin(block))\n",
    "    return out\n",
    "\n",
    "\n",
    "\n",
    "def _cipher(bit64, keys):\n",
    "\n",
    "    # TABLA IP\n",
    "    ip = [58, 50, 42, 34, 26, 18, 10, 2,\n",
    "          60, 52, 44, 36, 28, 20, 12, 4,\n",
    "          62, 54, 46, 38, 30, 22, 14, 6,\n",
    "          64, 56, 48, 40, 32, 24, 16, 8,\n",
    "          57, 49, 41, 33, 25, 17,  9, 1,\n",
    "          59, 51, 43, 35, 27, 19, 11, 3,\n",
    "          61, 53, 45, 37, 29, 21, 13, 5,\n",
    "          63, 55, 47, 39, 31, 23, 15, 7]\n",
    "\n",
    "    # TABLA FP\n",
    "    fp = [40,  8, 48, 16, 56, 24, 64, 32,\n",
    "          39,  7, 47, 15, 55, 23, 63, 31,\n",
    "          38,  6, 46, 14, 54, 22, 62, 30,\n",
    "          37,  5, 45, 13, 53, 21, 61, 29,\n",
    "          36,  4, 44, 12, 52, 20, 60, 28,\n",
    "          35,  3, 43, 11, 51, 19, 59, 27,\n",
    "          34,  2, 42, 10, 50, 18, 58, 26,\n",
    "          33,  1, 41,  9, 49, 17, 57, 25]\n",
    "    \n",
    "\n",
    "    # Aplicamos tabla IP\n",
    "    p = \"\"\n",
    "    for number in ip:\n",
    "        p += bit64[number-1]\n",
    "\n",
    "\n",
    "    # Dividir en 2 el bloque\n",
    "    ln = p[:32]\n",
    "    rn = p[32:]\n",
    "\n",
    "    # 16 rondas de cifrado, girando y XOR cada mitad después de cada ronda\n",
    "    for i in range(16):\n",
    "        temp = rn\n",
    "        rn = bin(int(ln, 2) ^ int(f(rn, keys[i]), 2))[2:].zfill(32)\n",
    "        ln = temp\n",
    "\n",
    "\n",
    "    # Combine las mitades izquierda y derecha y realice la permutación final\n",
    "    combined = ln + rn\n",
    "    out = \"\"\n",
    "    for number in fp:\n",
    "        out += combined[number-1]\n",
    "\n",
    "\n",
    "    return out\n",
    "\n",
    "\n",
    "\n",
    "\n",
    "\n",
    "\n",
    "# Convert ASCII text to binary\n",
    "def _ascii_to_bin(text):\n",
    "\n",
    "    out = \"\"\n",
    "    for letter in text:\n",
    "        out += bin(ord(letter))[2:].zfill(8)\n",
    "\n",
    "    # Pad block with 0s if necessary\n",
    "    for i in range(64-(len(out))):\n",
    "        out += \"0\"\n",
    "\n",
    "    return out\n",
    "\n",
    "\n",
    "\n",
    "# Convert binary to ASCII text\n",
    "def _bin_to_ascii(bit64):\n",
    "\n",
    "    out = \"\"\n",
    "    for i in range(0, 64, 8):\n",
    "        out += chr(int(bit64[i:i+8], 2))\n",
    "\n",
    "    #out.replace(\"\\x00\", \"\")\n",
    "    return out\n"
   ]
  },
  {
   "cell_type": "code",
   "execution_count": 2,
   "metadata": {},
   "outputs": [
    {
     "name": "stdout",
     "output_type": "stream",
     "text": [
      "01100111010011000100110010101000000111110011000011101111011101000001010110010000001011101100101111001101111100011000101100111011\n"
     ]
    }
   ],
   "source": [
    "key = open(\"Key.txt\",'r',encoding=\"utf8\").read().replace(\" \",\"\")\n",
    "text = open(\"Mensaje.txt\",'r',encoding=\"utf8\").read().replace(\" \",\"\")\n",
    "keys =  key_scheduler(key)\n",
    "cifrado = encrypt(text, keys)\n",
    "filename='Cifrado.txt'\n",
    "filew = open(filename, \"w\",encoding=\"utf-8\")\n",
    "filew.write(cifrado)\n",
    "filew.close()\n",
    "print(cifrado)"
   ]
  },
  {
   "cell_type": "code",
   "execution_count": 3,
   "metadata": {},
   "outputs": [
    {
     "data": {
      "text/plain": [
       "['010111101011100011001110110001011000010101111001',\n",
       " '100100010010111111110101111001011101011001011000',\n",
       " '110101010111111010010101010110011001011001101010',\n",
       " '010101111011011111100100100111001101110000101100',\n",
       " '110110101101010011100111000010000111111011110100',\n",
       " '111110011100001101101110101110011110100010110001',\n",
       " '101000001101001110101111101000110100111000010011',\n",
       " '101100010001101101110111100111110010001100010110',\n",
       " '011110101101111001011010100101010000001100110111',\n",
       " '011011001111000101011110010101110010101011000100',\n",
       " '001001101100110101011111011100001010000111011101',\n",
       " '011011110110100100110011001000111011010010001111',\n",
       " '101011111010110110111001011011100011010110100011',\n",
       " '110111110010011010011011001011100100100101101111',\n",
       " '011111111001111010011000010001101101100111010010',\n",
       " '101100010111100110101001110011001010100101011010']"
      ]
     },
     "execution_count": 3,
     "metadata": {},
     "output_type": "execute_result"
    }
   ],
   "source": [
    "keys"
   ]
  }
 ],
 "metadata": {
  "kernelspec": {
   "display_name": "Python 3",
   "language": "python",
   "name": "python3"
  },
  "language_info": {
   "codemirror_mode": {
    "name": "ipython",
    "version": 3
   },
   "file_extension": ".py",
   "mimetype": "text/x-python",
   "name": "python",
   "nbconvert_exporter": "python",
   "pygments_lexer": "ipython3",
   "version": "3.7.3"
  }
 },
 "nbformat": 4,
 "nbformat_minor": 2
}
